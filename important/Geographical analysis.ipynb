{
 "cells": [
  {
   "cell_type": "code",
   "execution_count": 2,
   "id": "c72a7847",
   "metadata": {},
   "outputs": [],
   "source": [
    "import pandas as pd\n",
    "import numpy as np\n",
    "import matplotlib.pyplot as plt\n",
    "%matplotlib inline"
   ]
  },
  {
   "cell_type": "code",
   "execution_count": 3,
   "id": "59fd171f",
   "metadata": {},
   "outputs": [],
   "source": [
    "df=pd.read_csv('zomato.csv')"
   ]
  },
  {
   "cell_type": "code",
   "execution_count": 5,
   "id": "7eb84258",
   "metadata": {},
   "outputs": [
    {
     "data": {
      "text/html": [
       "<div>\n",
       "<style scoped>\n",
       "    .dataframe tbody tr th:only-of-type {\n",
       "        vertical-align: middle;\n",
       "    }\n",
       "\n",
       "    .dataframe tbody tr th {\n",
       "        vertical-align: top;\n",
       "    }\n",
       "\n",
       "    .dataframe thead th {\n",
       "        text-align: right;\n",
       "    }\n",
       "</style>\n",
       "<table border=\"1\" class=\"dataframe\">\n",
       "  <thead>\n",
       "    <tr style=\"text-align: right;\">\n",
       "      <th></th>\n",
       "      <th>url</th>\n",
       "      <th>address</th>\n",
       "      <th>name</th>\n",
       "      <th>online_order</th>\n",
       "      <th>book_table</th>\n",
       "      <th>rate</th>\n",
       "      <th>votes</th>\n",
       "      <th>phone</th>\n",
       "      <th>location</th>\n",
       "      <th>rest_type</th>\n",
       "      <th>dish_liked</th>\n",
       "      <th>cuisines</th>\n",
       "      <th>approx_cost(for two people)</th>\n",
       "      <th>reviews_list</th>\n",
       "      <th>menu_item</th>\n",
       "      <th>listed_in(type)</th>\n",
       "      <th>listed_in(city)</th>\n",
       "    </tr>\n",
       "  </thead>\n",
       "  <tbody>\n",
       "    <tr>\n",
       "      <th>0</th>\n",
       "      <td>https://www.zomato.com/bangalore/jalsa-banasha...</td>\n",
       "      <td>942, 21st Main Road, 2nd Stage, Banashankari, ...</td>\n",
       "      <td>Jalsa</td>\n",
       "      <td>Yes</td>\n",
       "      <td>Yes</td>\n",
       "      <td>4.1/5</td>\n",
       "      <td>775</td>\n",
       "      <td>080 42297555\\r\\n+91 9743772233</td>\n",
       "      <td>Banashankari</td>\n",
       "      <td>Casual Dining</td>\n",
       "      <td>Pasta, Lunch Buffet, Masala Papad, Paneer Laja...</td>\n",
       "      <td>North Indian, Mughlai, Chinese</td>\n",
       "      <td>800</td>\n",
       "      <td>[('Rated 4.0', 'RATED\\n  A beautiful place to ...</td>\n",
       "      <td>[]</td>\n",
       "      <td>Buffet</td>\n",
       "      <td>Banashankari</td>\n",
       "    </tr>\n",
       "    <tr>\n",
       "      <th>1</th>\n",
       "      <td>https://www.zomato.com/bangalore/spice-elephan...</td>\n",
       "      <td>2nd Floor, 80 Feet Road, Near Big Bazaar, 6th ...</td>\n",
       "      <td>Spice Elephant</td>\n",
       "      <td>Yes</td>\n",
       "      <td>No</td>\n",
       "      <td>4.1/5</td>\n",
       "      <td>787</td>\n",
       "      <td>080 41714161</td>\n",
       "      <td>Banashankari</td>\n",
       "      <td>Casual Dining</td>\n",
       "      <td>Momos, Lunch Buffet, Chocolate Nirvana, Thai G...</td>\n",
       "      <td>Chinese, North Indian, Thai</td>\n",
       "      <td>800</td>\n",
       "      <td>[('Rated 4.0', 'RATED\\n  Had been here for din...</td>\n",
       "      <td>[]</td>\n",
       "      <td>Buffet</td>\n",
       "      <td>Banashankari</td>\n",
       "    </tr>\n",
       "  </tbody>\n",
       "</table>\n",
       "</div>"
      ],
      "text/plain": [
       "                                                 url  \\\n",
       "0  https://www.zomato.com/bangalore/jalsa-banasha...   \n",
       "1  https://www.zomato.com/bangalore/spice-elephan...   \n",
       "\n",
       "                                             address            name  \\\n",
       "0  942, 21st Main Road, 2nd Stage, Banashankari, ...           Jalsa   \n",
       "1  2nd Floor, 80 Feet Road, Near Big Bazaar, 6th ...  Spice Elephant   \n",
       "\n",
       "  online_order book_table   rate  votes                           phone  \\\n",
       "0          Yes        Yes  4.1/5    775  080 42297555\\r\\n+91 9743772233   \n",
       "1          Yes         No  4.1/5    787                    080 41714161   \n",
       "\n",
       "       location      rest_type  \\\n",
       "0  Banashankari  Casual Dining   \n",
       "1  Banashankari  Casual Dining   \n",
       "\n",
       "                                          dish_liked  \\\n",
       "0  Pasta, Lunch Buffet, Masala Papad, Paneer Laja...   \n",
       "1  Momos, Lunch Buffet, Chocolate Nirvana, Thai G...   \n",
       "\n",
       "                         cuisines approx_cost(for two people)  \\\n",
       "0  North Indian, Mughlai, Chinese                         800   \n",
       "1     Chinese, North Indian, Thai                         800   \n",
       "\n",
       "                                        reviews_list menu_item  \\\n",
       "0  [('Rated 4.0', 'RATED\\n  A beautiful place to ...        []   \n",
       "1  [('Rated 4.0', 'RATED\\n  Had been here for din...        []   \n",
       "\n",
       "  listed_in(type) listed_in(city)  \n",
       "0          Buffet    Banashankari  \n",
       "1          Buffet    Banashankari  "
      ]
     },
     "execution_count": 5,
     "metadata": {},
     "output_type": "execute_result"
    }
   ],
   "source": [
    "df.head(2)"
   ]
  },
  {
   "cell_type": "code",
   "execution_count": 7,
   "id": "57084e5c",
   "metadata": {},
   "outputs": [
    {
     "data": {
      "text/plain": [
       "13851    Electronic City\n",
       "3102        Banashankari\n",
       "5223              Ulsoor\n",
       "33847         Nagarbhavi\n",
       "45400             Domlur\n",
       "Name: location, dtype: object"
      ]
     },
     "execution_count": 7,
     "metadata": {},
     "output_type": "execute_result"
    }
   ],
   "source": [
    "df['location'].sample(5)"
   ]
  },
  {
   "cell_type": "code",
   "execution_count": 8,
   "id": "7646640a",
   "metadata": {},
   "outputs": [],
   "source": [
    "df.dropna(inplace=True)"
   ]
  },
  {
   "cell_type": "code",
   "execution_count": 9,
   "id": "01751682",
   "metadata": {},
   "outputs": [
    {
     "data": {
      "text/plain": [
       "88"
      ]
     },
     "execution_count": 9,
     "metadata": {},
     "output_type": "execute_result"
    }
   ],
   "source": [
    "len(df['location'].unique())"
   ]
  },
  {
   "cell_type": "code",
   "execution_count": 10,
   "id": "703e9f4e",
   "metadata": {},
   "outputs": [],
   "source": [
    "locations=pd.DataFrame({\"Name\":df['location'].unique()})"
   ]
  },
  {
   "cell_type": "code",
   "execution_count": 15,
   "id": "102af45c",
   "metadata": {},
   "outputs": [],
   "source": [
    "locations['new_Name']='Bangalore '+locations['Name']"
   ]
  },
  {
   "cell_type": "code",
   "execution_count": 17,
   "id": "65595592",
   "metadata": {},
   "outputs": [
    {
     "data": {
      "text/html": [
       "<div>\n",
       "<style scoped>\n",
       "    .dataframe tbody tr th:only-of-type {\n",
       "        vertical-align: middle;\n",
       "    }\n",
       "\n",
       "    .dataframe tbody tr th {\n",
       "        vertical-align: top;\n",
       "    }\n",
       "\n",
       "    .dataframe thead th {\n",
       "        text-align: right;\n",
       "    }\n",
       "</style>\n",
       "<table border=\"1\" class=\"dataframe\">\n",
       "  <thead>\n",
       "    <tr style=\"text-align: right;\">\n",
       "      <th></th>\n",
       "      <th>Name</th>\n",
       "      <th>new_Name</th>\n",
       "    </tr>\n",
       "  </thead>\n",
       "  <tbody>\n",
       "    <tr>\n",
       "      <th>0</th>\n",
       "      <td>Banashankari</td>\n",
       "      <td>Bangalore Banashankari</td>\n",
       "    </tr>\n",
       "    <tr>\n",
       "      <th>1</th>\n",
       "      <td>Basavanagudi</td>\n",
       "      <td>Bangalore Basavanagudi</td>\n",
       "    </tr>\n",
       "    <tr>\n",
       "      <th>2</th>\n",
       "      <td>Jayanagar</td>\n",
       "      <td>Bangalore Jayanagar</td>\n",
       "    </tr>\n",
       "    <tr>\n",
       "      <th>3</th>\n",
       "      <td>Kumaraswamy Layout</td>\n",
       "      <td>Bangalore Kumaraswamy Layout</td>\n",
       "    </tr>\n",
       "    <tr>\n",
       "      <th>4</th>\n",
       "      <td>Rajarajeshwari Nagar</td>\n",
       "      <td>Bangalore Rajarajeshwari Nagar</td>\n",
       "    </tr>\n",
       "  </tbody>\n",
       "</table>\n",
       "</div>"
      ],
      "text/plain": [
       "                   Name                        new_Name\n",
       "0          Banashankari          Bangalore Banashankari\n",
       "1          Basavanagudi          Bangalore Basavanagudi\n",
       "2             Jayanagar             Bangalore Jayanagar\n",
       "3    Kumaraswamy Layout    Bangalore Kumaraswamy Layout\n",
       "4  Rajarajeshwari Nagar  Bangalore Rajarajeshwari Nagar"
      ]
     },
     "execution_count": 17,
     "metadata": {},
     "output_type": "execute_result"
    }
   ],
   "source": [
    "locations.head()"
   ]
  },
  {
   "cell_type": "code",
   "execution_count": 18,
   "id": "5bb9d516",
   "metadata": {},
   "outputs": [
    {
     "name": "stdout",
     "output_type": "stream",
     "text": [
      "Requirement already satisfied: geopy in c:\\users\\amit kumar\\anaconda3\\lib\\site-packages (2.2.0)\n",
      "Requirement already satisfied: geographiclib<2,>=1.49 in c:\\users\\amit kumar\\anaconda3\\lib\\site-packages (from geopy) (1.52)\n"
     ]
    }
   ],
   "source": [
    "!pip install geopy"
   ]
  },
  {
   "cell_type": "code",
   "execution_count": 20,
   "id": "bf879749",
   "metadata": {},
   "outputs": [],
   "source": [
    "from geopy.geocoders import Nominatim"
   ]
  },
  {
   "cell_type": "code",
   "execution_count": 21,
   "id": "7287849b",
   "metadata": {},
   "outputs": [],
   "source": [
    "lat_lon=[]\n",
    "geolocator=Nominatim(user_agent=\"app\")\n",
    "for location in locations['Name']:\n",
    "    location = geolocator.geocode(location)\n",
    "    if location is None:\n",
    "        lat_lon.append(np.nan)\n",
    "    else:    \n",
    "        geo=(location.latitude,location.longitude)\n",
    "        lat_lon.append(geo)"
   ]
  },
  {
   "cell_type": "code",
   "execution_count": 22,
   "id": "c7f28e91",
   "metadata": {},
   "outputs": [],
   "source": [
    "locations['geo_loc']=lat_lon"
   ]
  },
  {
   "cell_type": "code",
   "execution_count": 23,
   "id": "e7294843",
   "metadata": {},
   "outputs": [
    {
     "data": {
      "text/html": [
       "<div>\n",
       "<style scoped>\n",
       "    .dataframe tbody tr th:only-of-type {\n",
       "        vertical-align: middle;\n",
       "    }\n",
       "\n",
       "    .dataframe tbody tr th {\n",
       "        vertical-align: top;\n",
       "    }\n",
       "\n",
       "    .dataframe thead th {\n",
       "        text-align: right;\n",
       "    }\n",
       "</style>\n",
       "<table border=\"1\" class=\"dataframe\">\n",
       "  <thead>\n",
       "    <tr style=\"text-align: right;\">\n",
       "      <th></th>\n",
       "      <th>Name</th>\n",
       "      <th>new_Name</th>\n",
       "      <th>geo_loc</th>\n",
       "    </tr>\n",
       "  </thead>\n",
       "  <tbody>\n",
       "    <tr>\n",
       "      <th>0</th>\n",
       "      <td>Banashankari</td>\n",
       "      <td>Bangalore Banashankari</td>\n",
       "      <td>(15.8876779, 75.7046777)</td>\n",
       "    </tr>\n",
       "    <tr>\n",
       "      <th>1</th>\n",
       "      <td>Basavanagudi</td>\n",
       "      <td>Bangalore Basavanagudi</td>\n",
       "      <td>(12.9417261, 77.5755021)</td>\n",
       "    </tr>\n",
       "    <tr>\n",
       "      <th>2</th>\n",
       "      <td>Jayanagar</td>\n",
       "      <td>Bangalore Jayanagar</td>\n",
       "      <td>(27.64392675, 83.05280519687284)</td>\n",
       "    </tr>\n",
       "    <tr>\n",
       "      <th>3</th>\n",
       "      <td>Kumaraswamy Layout</td>\n",
       "      <td>Bangalore Kumaraswamy Layout</td>\n",
       "      <td>(12.9081487, 77.5553179)</td>\n",
       "    </tr>\n",
       "    <tr>\n",
       "      <th>4</th>\n",
       "      <td>Rajarajeshwari Nagar</td>\n",
       "      <td>Bangalore Rajarajeshwari Nagar</td>\n",
       "      <td>(12.9274413, 77.5155224)</td>\n",
       "    </tr>\n",
       "  </tbody>\n",
       "</table>\n",
       "</div>"
      ],
      "text/plain": [
       "                   Name                        new_Name  \\\n",
       "0          Banashankari          Bangalore Banashankari   \n",
       "1          Basavanagudi          Bangalore Basavanagudi   \n",
       "2             Jayanagar             Bangalore Jayanagar   \n",
       "3    Kumaraswamy Layout    Bangalore Kumaraswamy Layout   \n",
       "4  Rajarajeshwari Nagar  Bangalore Rajarajeshwari Nagar   \n",
       "\n",
       "                            geo_loc  \n",
       "0          (15.8876779, 75.7046777)  \n",
       "1          (12.9417261, 77.5755021)  \n",
       "2  (27.64392675, 83.05280519687284)  \n",
       "3          (12.9081487, 77.5553179)  \n",
       "4          (12.9274413, 77.5155224)  "
      ]
     },
     "execution_count": 23,
     "metadata": {},
     "output_type": "execute_result"
    }
   ],
   "source": [
    "locations.head()"
   ]
  },
  {
   "cell_type": "code",
   "execution_count": 24,
   "id": "ca6fc120",
   "metadata": {},
   "outputs": [],
   "source": [
    "locations.to_csv('zomato_locations.csv',index=False)"
   ]
  },
  {
   "cell_type": "markdown",
   "id": "f8385ce1",
   "metadata": {},
   "source": [
    "### We have found out latitude and longitude of each location listed in the dataset using geopy.`"
   ]
  },
  {
   "cell_type": "code",
   "execution_count": 25,
   "id": "ac088ded",
   "metadata": {},
   "outputs": [],
   "source": [
    "Rest_locations=pd.DataFrame(df['location'].value_counts().reset_index())"
   ]
  },
  {
   "cell_type": "code",
   "execution_count": 26,
   "id": "e0ca8d1c",
   "metadata": {},
   "outputs": [
    {
     "data": {
      "text/html": [
       "<div>\n",
       "<style scoped>\n",
       "    .dataframe tbody tr th:only-of-type {\n",
       "        vertical-align: middle;\n",
       "    }\n",
       "\n",
       "    .dataframe tbody tr th {\n",
       "        vertical-align: top;\n",
       "    }\n",
       "\n",
       "    .dataframe thead th {\n",
       "        text-align: right;\n",
       "    }\n",
       "</style>\n",
       "<table border=\"1\" class=\"dataframe\">\n",
       "  <thead>\n",
       "    <tr style=\"text-align: right;\">\n",
       "      <th></th>\n",
       "      <th>Name</th>\n",
       "      <th>count</th>\n",
       "    </tr>\n",
       "  </thead>\n",
       "  <tbody>\n",
       "    <tr>\n",
       "      <th>0</th>\n",
       "      <td>Koramangala 5th Block</td>\n",
       "      <td>1783</td>\n",
       "    </tr>\n",
       "    <tr>\n",
       "      <th>1</th>\n",
       "      <td>BTM</td>\n",
       "      <td>1456</td>\n",
       "    </tr>\n",
       "    <tr>\n",
       "      <th>2</th>\n",
       "      <td>Indiranagar</td>\n",
       "      <td>1350</td>\n",
       "    </tr>\n",
       "    <tr>\n",
       "      <th>3</th>\n",
       "      <td>HSR</td>\n",
       "      <td>1162</td>\n",
       "    </tr>\n",
       "    <tr>\n",
       "      <th>4</th>\n",
       "      <td>Jayanagar</td>\n",
       "      <td>1037</td>\n",
       "    </tr>\n",
       "  </tbody>\n",
       "</table>\n",
       "</div>"
      ],
      "text/plain": [
       "                    Name  count\n",
       "0  Koramangala 5th Block   1783\n",
       "1                    BTM   1456\n",
       "2            Indiranagar   1350\n",
       "3                    HSR   1162\n",
       "4              Jayanagar   1037"
      ]
     },
     "execution_count": 26,
     "metadata": {},
     "output_type": "execute_result"
    }
   ],
   "source": [
    "Rest_locations.columns=['Name','count']\n",
    "Rest_locations.head()"
   ]
  },
  {
   "cell_type": "code",
   "execution_count": 27,
   "id": "e564bbe3",
   "metadata": {},
   "outputs": [
    {
     "data": {
      "text/html": [
       "<div>\n",
       "<style scoped>\n",
       "    .dataframe tbody tr th:only-of-type {\n",
       "        vertical-align: middle;\n",
       "    }\n",
       "\n",
       "    .dataframe tbody tr th {\n",
       "        vertical-align: top;\n",
       "    }\n",
       "\n",
       "    .dataframe thead th {\n",
       "        text-align: right;\n",
       "    }\n",
       "</style>\n",
       "<table border=\"1\" class=\"dataframe\">\n",
       "  <thead>\n",
       "    <tr style=\"text-align: right;\">\n",
       "      <th></th>\n",
       "      <th>Name</th>\n",
       "      <th>new_Name</th>\n",
       "      <th>geo_loc</th>\n",
       "    </tr>\n",
       "  </thead>\n",
       "  <tbody>\n",
       "    <tr>\n",
       "      <th>0</th>\n",
       "      <td>Banashankari</td>\n",
       "      <td>Bangalore Banashankari</td>\n",
       "      <td>(15.8876779, 75.7046777)</td>\n",
       "    </tr>\n",
       "    <tr>\n",
       "      <th>1</th>\n",
       "      <td>Basavanagudi</td>\n",
       "      <td>Bangalore Basavanagudi</td>\n",
       "      <td>(12.9417261, 77.5755021)</td>\n",
       "    </tr>\n",
       "    <tr>\n",
       "      <th>2</th>\n",
       "      <td>Jayanagar</td>\n",
       "      <td>Bangalore Jayanagar</td>\n",
       "      <td>(27.64392675, 83.05280519687284)</td>\n",
       "    </tr>\n",
       "    <tr>\n",
       "      <th>3</th>\n",
       "      <td>Kumaraswamy Layout</td>\n",
       "      <td>Bangalore Kumaraswamy Layout</td>\n",
       "      <td>(12.9081487, 77.5553179)</td>\n",
       "    </tr>\n",
       "    <tr>\n",
       "      <th>4</th>\n",
       "      <td>Rajarajeshwari Nagar</td>\n",
       "      <td>Bangalore Rajarajeshwari Nagar</td>\n",
       "      <td>(12.9274413, 77.5155224)</td>\n",
       "    </tr>\n",
       "  </tbody>\n",
       "</table>\n",
       "</div>"
      ],
      "text/plain": [
       "                   Name                        new_Name  \\\n",
       "0          Banashankari          Bangalore Banashankari   \n",
       "1          Basavanagudi          Bangalore Basavanagudi   \n",
       "2             Jayanagar             Bangalore Jayanagar   \n",
       "3    Kumaraswamy Layout    Bangalore Kumaraswamy Layout   \n",
       "4  Rajarajeshwari Nagar  Bangalore Rajarajeshwari Nagar   \n",
       "\n",
       "                            geo_loc  \n",
       "0          (15.8876779, 75.7046777)  \n",
       "1          (12.9417261, 77.5755021)  \n",
       "2  (27.64392675, 83.05280519687284)  \n",
       "3          (12.9081487, 77.5553179)  \n",
       "4          (12.9274413, 77.5155224)  "
      ]
     },
     "execution_count": 27,
     "metadata": {},
     "output_type": "execute_result"
    }
   ],
   "source": [
    "locations.head()"
   ]
  },
  {
   "cell_type": "code",
   "execution_count": 28,
   "id": "785363b0",
   "metadata": {},
   "outputs": [
    {
     "data": {
      "text/plain": [
       "(88, 3)"
      ]
     },
     "execution_count": 28,
     "metadata": {},
     "output_type": "execute_result"
    }
   ],
   "source": [
    "locations.shape"
   ]
  },
  {
   "cell_type": "code",
   "execution_count": 29,
   "id": "a863ec3f",
   "metadata": {},
   "outputs": [
    {
     "data": {
      "text/plain": [
       "(88, 2)"
      ]
     },
     "execution_count": 29,
     "metadata": {},
     "output_type": "execute_result"
    }
   ],
   "source": [
    "Rest_locations.shape"
   ]
  },
  {
   "cell_type": "code",
   "execution_count": 30,
   "id": "82a20cd8",
   "metadata": {},
   "outputs": [
    {
     "data": {
      "text/html": [
       "<div>\n",
       "<style scoped>\n",
       "    .dataframe tbody tr th:only-of-type {\n",
       "        vertical-align: middle;\n",
       "    }\n",
       "\n",
       "    .dataframe tbody tr th {\n",
       "        vertical-align: top;\n",
       "    }\n",
       "\n",
       "    .dataframe thead th {\n",
       "        text-align: right;\n",
       "    }\n",
       "</style>\n",
       "<table border=\"1\" class=\"dataframe\">\n",
       "  <thead>\n",
       "    <tr style=\"text-align: right;\">\n",
       "      <th></th>\n",
       "      <th>Name</th>\n",
       "      <th>count</th>\n",
       "      <th>new_Name</th>\n",
       "      <th>geo_loc</th>\n",
       "    </tr>\n",
       "  </thead>\n",
       "  <tbody>\n",
       "    <tr>\n",
       "      <th>0</th>\n",
       "      <td>Koramangala 5th Block</td>\n",
       "      <td>1783</td>\n",
       "      <td>Bangalore Koramangala 5th Block</td>\n",
       "      <td>(12.9343774, 77.628415)</td>\n",
       "    </tr>\n",
       "    <tr>\n",
       "      <th>1</th>\n",
       "      <td>BTM</td>\n",
       "      <td>1456</td>\n",
       "      <td>Bangalore BTM</td>\n",
       "      <td>(45.95485055, -112.49659530324134)</td>\n",
       "    </tr>\n",
       "    <tr>\n",
       "      <th>2</th>\n",
       "      <td>Indiranagar</td>\n",
       "      <td>1350</td>\n",
       "      <td>Bangalore Indiranagar</td>\n",
       "      <td>(12.9732913, 77.6404672)</td>\n",
       "    </tr>\n",
       "    <tr>\n",
       "      <th>3</th>\n",
       "      <td>HSR</td>\n",
       "      <td>1162</td>\n",
       "      <td>Bangalore HSR</td>\n",
       "      <td>(18.1475, 41.538889)</td>\n",
       "    </tr>\n",
       "    <tr>\n",
       "      <th>4</th>\n",
       "      <td>Jayanagar</td>\n",
       "      <td>1037</td>\n",
       "      <td>Bangalore Jayanagar</td>\n",
       "      <td>(27.64392675, 83.05280519687284)</td>\n",
       "    </tr>\n",
       "  </tbody>\n",
       "</table>\n",
       "</div>"
      ],
      "text/plain": [
       "                    Name  count                         new_Name  \\\n",
       "0  Koramangala 5th Block   1783  Bangalore Koramangala 5th Block   \n",
       "1                    BTM   1456                    Bangalore BTM   \n",
       "2            Indiranagar   1350            Bangalore Indiranagar   \n",
       "3                    HSR   1162                    Bangalore HSR   \n",
       "4              Jayanagar   1037              Bangalore Jayanagar   \n",
       "\n",
       "                              geo_loc  \n",
       "0             (12.9343774, 77.628415)  \n",
       "1  (45.95485055, -112.49659530324134)  \n",
       "2            (12.9732913, 77.6404672)  \n",
       "3                (18.1475, 41.538889)  \n",
       "4    (27.64392675, 83.05280519687284)  "
      ]
     },
     "execution_count": 30,
     "metadata": {},
     "output_type": "execute_result"
    }
   ],
   "source": [
    "Restaurant_locations=Rest_locations.merge(locations,on='Name',how=\"left\").dropna()\n",
    "Restaurant_locations.head()"
   ]
  },
  {
   "cell_type": "code",
   "execution_count": 31,
   "id": "a63dc8f5",
   "metadata": {},
   "outputs": [
    {
     "data": {
      "text/plain": [
       "(87, 4)"
      ]
     },
     "execution_count": 31,
     "metadata": {},
     "output_type": "execute_result"
    }
   ],
   "source": [
    "Restaurant_locations.shape"
   ]
  },
  {
   "cell_type": "code",
   "execution_count": 32,
   "id": "aaee401d",
   "metadata": {},
   "outputs": [
    {
     "data": {
      "text/plain": [
       "1783"
      ]
     },
     "execution_count": 32,
     "metadata": {},
     "output_type": "execute_result"
    }
   ],
   "source": [
    "Restaurant_locations['count'].max()"
   ]
  },
  {
   "cell_type": "code",
   "execution_count": 33,
   "id": "d4a63721",
   "metadata": {},
   "outputs": [
    {
     "data": {
      "text/plain": [
       "tuple"
      ]
     },
     "execution_count": 33,
     "metadata": {},
     "output_type": "execute_result"
    }
   ],
   "source": [
    "type(Restaurant_locations['geo_loc'][0])"
   ]
  },
  {
   "cell_type": "code",
   "execution_count": 34,
   "id": "08dabfbb",
   "metadata": {},
   "outputs": [],
   "source": [
    "def generateBaseMap(default_location=[12.97, 77.59], default_zoom_start=12):\n",
    "    base_map = folium.Map(location=default_location, zoom_start=default_zoom_start)\n",
    "    return base_map"
   ]
  },
  {
   "cell_type": "code",
   "execution_count": 35,
   "id": "e12ebe34",
   "metadata": {},
   "outputs": [
    {
     "data": {
      "text/plain": [
       "87"
      ]
     },
     "execution_count": 35,
     "metadata": {},
     "output_type": "execute_result"
    }
   ],
   "source": [
    "len(Restaurant_locations['geo_loc'])"
   ]
  },
  {
   "cell_type": "code",
   "execution_count": 36,
   "id": "19eee3a1",
   "metadata": {},
   "outputs": [
    {
     "data": {
      "text/plain": [
       "Name        0\n",
       "count       0\n",
       "new_Name    0\n",
       "geo_loc     0\n",
       "dtype: int64"
      ]
     },
     "execution_count": 36,
     "metadata": {},
     "output_type": "execute_result"
    }
   ],
   "source": [
    "Restaurant_locations.isna().sum()"
   ]
  },
  {
   "cell_type": "code",
   "execution_count": 37,
   "id": "8ec98be1",
   "metadata": {},
   "outputs": [
    {
     "data": {
      "text/plain": [
       "12.9343774"
      ]
     },
     "execution_count": 37,
     "metadata": {},
     "output_type": "execute_result"
    }
   ],
   "source": [
    "Restaurant_locations['geo_loc'][0][0]"
   ]
  },
  {
   "cell_type": "code",
   "execution_count": 38,
   "id": "75cea3d2",
   "metadata": {},
   "outputs": [
    {
     "data": {
      "text/plain": [
       "77.628415"
      ]
     },
     "execution_count": 38,
     "metadata": {},
     "output_type": "execute_result"
    }
   ],
   "source": [
    "Restaurant_locations['geo_loc'][0][1]"
   ]
  },
  {
   "cell_type": "code",
   "execution_count": 39,
   "id": "2da7f452",
   "metadata": {},
   "outputs": [
    {
     "data": {
      "text/plain": [
       "array([(12.9343774, 77.628415), (45.95485055, -112.49659530324134),\n",
       "       (12.9732913, 77.6404672), (18.1475, 41.538889),\n",
       "       (27.64392675, 83.05280519687284), (12.2655944, 76.6465404),\n",
       "       (44.3730577, -71.6118577), (12.9302645, 77.6332585),\n",
       "       (12.9400321, 77.6203272), (12.9552572, 77.6984163),\n",
       "       (12.93433385, 77.63040639553275), (29.4534927, -98.6440138),\n",
       "       (44.621621, -84.790422), (40.7153533, -74.0076212),\n",
       "       (12.887979, 77.5970812), (12.9778793, 77.6246697),\n",
       "       (13.0221416, 77.6403368), (14.5395813, 121.070371),\n",
       "       (12.93577245, 77.66676103753434), (12.9242381, 77.6289059),\n",
       "       (40.7652844, -76.373824), (24.593839, 73.6968527),\n",
       "       (15.8876779, 75.7046777), (13.0027353, 77.5703253),\n",
       "       (40.5763076, -74.1270894), (31.89376, -88.066644),\n",
       "       (-6.2659285, 106.7842561), (33.5935063, -79.0345627),\n",
       "       (51.5230784, -0.7374421), (13.0346384, 77.5681733),\n",
       "       (12.996845, 77.6130165), (12.9417261, 77.5755021),\n",
       "       (13.0093455, 77.6377094), (12.9624669, 77.6381958),\n",
       "       (62.442403, -114.3987951), (13.0141618, 77.6518539),\n",
       "       (12.9678074, 77.6568367), (12.9575547, 77.5979099),\n",
       "       (12.9271867, 77.6266252), (12.9882338, 77.554883),\n",
       "       (51.5153311, -0.0718115), (12.9417812, 77.6160146),\n",
       "       (12.988721250000001, 77.58516877601824), (34.977289, -78.974578),\n",
       "       (42.931349, -74.194255), (12.9932739, 77.5388099),\n",
       "       (12.9931876, 77.5753419), (18.5322493, 73.8499601124847),\n",
       "       (13.2227, 78.5541977), (12.945245, 77.6269144),\n",
       "       (12.9081487, 77.5553179), (12.9846713, 77.6790908),\n",
       "       (12.9243509, 77.6255562), (12.973936, 77.6509982),\n",
       "       (13.0358698, 77.6323597), (12.967576, 77.7150877),\n",
       "       (12.9489339, 77.5968273), (15.8782951, 74.5084834),\n",
       "       (13.0258087, 77.6305067), (12.9089453, 77.6239038),\n",
       "       (12.9414662, 77.7470942), (1.2847055, 103.84320655721689),\n",
       "       (13.02383, 77.5529215), (12.773175, 77.7831871),\n",
       "       (13.0227204, 77.595715), (12.957998, 77.6037312),\n",
       "       (13.0621474, 77.58006135480495), (13.0646907, 77.49626895712257),\n",
       "       (38.7801076, -121.5056438), (13.2923988, 77.7519261),\n",
       "       (23.1485712, 81.6048241), (12.9970537, 77.669804),\n",
       "       (6.9233338, 93.9046149), (17.2510682, 80.1651978),\n",
       "       (39.76880625, -86.15345077251979), (13.0215466, 77.7640586),\n",
       "       (12.3872141, 76.6669626), (12.9055682, 77.5455438),\n",
       "       (13.0101286, 77.5548006), (13.0217151, 77.7660547),\n",
       "       (11.9917786, 76.5066292), (12.9274413, 77.5155224),\n",
       "       (12.5607431, 77.4258375), (13.0011289, 77.6325617),\n",
       "       (13.1006982, 77.5963454), (12.945048, 77.263004),\n",
       "       (13.007516, 77.695935)], dtype=object)"
      ]
     },
     "execution_count": 39,
     "metadata": {},
     "output_type": "execute_result"
    }
   ],
   "source": [
    "np.array(Restaurant_locations['geo_loc'])"
   ]
  },
  {
   "cell_type": "code",
   "execution_count": 40,
   "id": "0844956d",
   "metadata": {},
   "outputs": [],
   "source": [
    "#### unzip it\n",
    "lat,lon=zip(*np.array(Restaurant_locations['geo_loc']))"
   ]
  },
  {
   "cell_type": "code",
   "execution_count": 41,
   "id": "923c17ce",
   "metadata": {},
   "outputs": [
    {
     "data": {
      "text/plain": [
       "tuple"
      ]
     },
     "execution_count": 41,
     "metadata": {},
     "output_type": "execute_result"
    }
   ],
   "source": [
    "type(lat)"
   ]
  },
  {
   "cell_type": "code",
   "execution_count": 42,
   "id": "0cf035f0",
   "metadata": {},
   "outputs": [],
   "source": [
    "Restaurant_locations['lat']=lat\n",
    "Restaurant_locations['lon']=lon"
   ]
  },
  {
   "cell_type": "code",
   "execution_count": 43,
   "id": "66afe3fd",
   "metadata": {},
   "outputs": [
    {
     "data": {
      "text/html": [
       "<div>\n",
       "<style scoped>\n",
       "    .dataframe tbody tr th:only-of-type {\n",
       "        vertical-align: middle;\n",
       "    }\n",
       "\n",
       "    .dataframe tbody tr th {\n",
       "        vertical-align: top;\n",
       "    }\n",
       "\n",
       "    .dataframe thead th {\n",
       "        text-align: right;\n",
       "    }\n",
       "</style>\n",
       "<table border=\"1\" class=\"dataframe\">\n",
       "  <thead>\n",
       "    <tr style=\"text-align: right;\">\n",
       "      <th></th>\n",
       "      <th>Name</th>\n",
       "      <th>count</th>\n",
       "      <th>new_Name</th>\n",
       "      <th>geo_loc</th>\n",
       "      <th>lat</th>\n",
       "      <th>lon</th>\n",
       "    </tr>\n",
       "  </thead>\n",
       "  <tbody>\n",
       "    <tr>\n",
       "      <th>0</th>\n",
       "      <td>Koramangala 5th Block</td>\n",
       "      <td>1783</td>\n",
       "      <td>Bangalore Koramangala 5th Block</td>\n",
       "      <td>(12.9343774, 77.628415)</td>\n",
       "      <td>12.934377</td>\n",
       "      <td>77.628415</td>\n",
       "    </tr>\n",
       "    <tr>\n",
       "      <th>1</th>\n",
       "      <td>BTM</td>\n",
       "      <td>1456</td>\n",
       "      <td>Bangalore BTM</td>\n",
       "      <td>(45.95485055, -112.49659530324134)</td>\n",
       "      <td>45.954851</td>\n",
       "      <td>-112.496595</td>\n",
       "    </tr>\n",
       "    <tr>\n",
       "      <th>2</th>\n",
       "      <td>Indiranagar</td>\n",
       "      <td>1350</td>\n",
       "      <td>Bangalore Indiranagar</td>\n",
       "      <td>(12.9732913, 77.6404672)</td>\n",
       "      <td>12.973291</td>\n",
       "      <td>77.640467</td>\n",
       "    </tr>\n",
       "    <tr>\n",
       "      <th>3</th>\n",
       "      <td>HSR</td>\n",
       "      <td>1162</td>\n",
       "      <td>Bangalore HSR</td>\n",
       "      <td>(18.1475, 41.538889)</td>\n",
       "      <td>18.147500</td>\n",
       "      <td>41.538889</td>\n",
       "    </tr>\n",
       "    <tr>\n",
       "      <th>4</th>\n",
       "      <td>Jayanagar</td>\n",
       "      <td>1037</td>\n",
       "      <td>Bangalore Jayanagar</td>\n",
       "      <td>(27.64392675, 83.05280519687284)</td>\n",
       "      <td>27.643927</td>\n",
       "      <td>83.052805</td>\n",
       "    </tr>\n",
       "  </tbody>\n",
       "</table>\n",
       "</div>"
      ],
      "text/plain": [
       "                    Name  count                         new_Name  \\\n",
       "0  Koramangala 5th Block   1783  Bangalore Koramangala 5th Block   \n",
       "1                    BTM   1456                    Bangalore BTM   \n",
       "2            Indiranagar   1350            Bangalore Indiranagar   \n",
       "3                    HSR   1162                    Bangalore HSR   \n",
       "4              Jayanagar   1037              Bangalore Jayanagar   \n",
       "\n",
       "                              geo_loc        lat         lon  \n",
       "0             (12.9343774, 77.628415)  12.934377   77.628415  \n",
       "1  (45.95485055, -112.49659530324134)  45.954851 -112.496595  \n",
       "2            (12.9732913, 77.6404672)  12.973291   77.640467  \n",
       "3                (18.1475, 41.538889)  18.147500   41.538889  \n",
       "4    (27.64392675, 83.05280519687284)  27.643927   83.052805  "
      ]
     },
     "execution_count": 43,
     "metadata": {},
     "output_type": "execute_result"
    }
   ],
   "source": [
    "Restaurant_locations.head()"
   ]
  },
  {
   "cell_type": "code",
   "execution_count": null,
   "id": "d17dca58",
   "metadata": {},
   "outputs": [],
   "source": [
    "!pip install folium"
   ]
  },
  {
   "cell_type": "code",
   "execution_count": 44,
   "id": "fa78bc0b",
   "metadata": {},
   "outputs": [],
   "source": [
    "import folium\n",
    "from folium.plugins import HeatMap\n",
    "basemap=generateBaseMap()"
   ]
  },
  {
   "cell_type": "code",
   "execution_count": 45,
   "id": "a642c9b5",
   "metadata": {},
   "outputs": [
    {
     "data": {
      "text/html": [
       "<div style=\"width:100%;\"><div style=\"position:relative;width:100%;height:0;padding-bottom:60%;\"><span style=\"color:#565656\">Make this Notebook Trusted to load map: File -> Trust Notebook</span><iframe src=\"about:blank\" style=\"position:absolute;width:100%;height:100%;left:0;top:0;border:none !important;\" data-html=%3C%21DOCTYPE%20html%3E%0A%3Chead%3E%20%20%20%20%0A%20%20%20%20%3Cmeta%20http-equiv%3D%22content-type%22%20content%3D%22text/html%3B%20charset%3DUTF-8%22%20/%3E%0A%20%20%20%20%0A%20%20%20%20%20%20%20%20%3Cscript%3E%0A%20%20%20%20%20%20%20%20%20%20%20%20L_NO_TOUCH%20%3D%20false%3B%0A%20%20%20%20%20%20%20%20%20%20%20%20L_DISABLE_3D%20%3D%20false%3B%0A%20%20%20%20%20%20%20%20%3C/script%3E%0A%20%20%20%20%0A%20%20%20%20%3Cstyle%3Ehtml%2C%20body%20%7Bwidth%3A%20100%25%3Bheight%3A%20100%25%3Bmargin%3A%200%3Bpadding%3A%200%3B%7D%3C/style%3E%0A%20%20%20%20%3Cstyle%3E%23map%20%7Bposition%3Aabsolute%3Btop%3A0%3Bbottom%3A0%3Bright%3A0%3Bleft%3A0%3B%7D%3C/style%3E%0A%20%20%20%20%3Cscript%20src%3D%22https%3A//cdn.jsdelivr.net/npm/leaflet%401.6.0/dist/leaflet.js%22%3E%3C/script%3E%0A%20%20%20%20%3Cscript%20src%3D%22https%3A//code.jquery.com/jquery-1.12.4.min.js%22%3E%3C/script%3E%0A%20%20%20%20%3Cscript%20src%3D%22https%3A//maxcdn.bootstrapcdn.com/bootstrap/3.2.0/js/bootstrap.min.js%22%3E%3C/script%3E%0A%20%20%20%20%3Cscript%20src%3D%22https%3A//cdnjs.cloudflare.com/ajax/libs/Leaflet.awesome-markers/2.0.2/leaflet.awesome-markers.js%22%3E%3C/script%3E%0A%20%20%20%20%3Clink%20rel%3D%22stylesheet%22%20href%3D%22https%3A//cdn.jsdelivr.net/npm/leaflet%401.6.0/dist/leaflet.css%22/%3E%0A%20%20%20%20%3Clink%20rel%3D%22stylesheet%22%20href%3D%22https%3A//maxcdn.bootstrapcdn.com/bootstrap/3.2.0/css/bootstrap.min.css%22/%3E%0A%20%20%20%20%3Clink%20rel%3D%22stylesheet%22%20href%3D%22https%3A//maxcdn.bootstrapcdn.com/bootstrap/3.2.0/css/bootstrap-theme.min.css%22/%3E%0A%20%20%20%20%3Clink%20rel%3D%22stylesheet%22%20href%3D%22https%3A//maxcdn.bootstrapcdn.com/font-awesome/4.6.3/css/font-awesome.min.css%22/%3E%0A%20%20%20%20%3Clink%20rel%3D%22stylesheet%22%20href%3D%22https%3A//cdnjs.cloudflare.com/ajax/libs/Leaflet.awesome-markers/2.0.2/leaflet.awesome-markers.css%22/%3E%0A%20%20%20%20%3Clink%20rel%3D%22stylesheet%22%20href%3D%22https%3A//cdn.jsdelivr.net/gh/python-visualization/folium/folium/templates/leaflet.awesome.rotate.min.css%22/%3E%0A%20%20%20%20%0A%20%20%20%20%20%20%20%20%20%20%20%20%3Cmeta%20name%3D%22viewport%22%20content%3D%22width%3Ddevice-width%2C%0A%20%20%20%20%20%20%20%20%20%20%20%20%20%20%20%20initial-scale%3D1.0%2C%20maximum-scale%3D1.0%2C%20user-scalable%3Dno%22%20/%3E%0A%20%20%20%20%20%20%20%20%20%20%20%20%3Cstyle%3E%0A%20%20%20%20%20%20%20%20%20%20%20%20%20%20%20%20%23map_ad7d82b70da8427e88d5aaf36d725c09%20%7B%0A%20%20%20%20%20%20%20%20%20%20%20%20%20%20%20%20%20%20%20%20position%3A%20relative%3B%0A%20%20%20%20%20%20%20%20%20%20%20%20%20%20%20%20%20%20%20%20width%3A%20100.0%25%3B%0A%20%20%20%20%20%20%20%20%20%20%20%20%20%20%20%20%20%20%20%20height%3A%20100.0%25%3B%0A%20%20%20%20%20%20%20%20%20%20%20%20%20%20%20%20%20%20%20%20left%3A%200.0%25%3B%0A%20%20%20%20%20%20%20%20%20%20%20%20%20%20%20%20%20%20%20%20top%3A%200.0%25%3B%0A%20%20%20%20%20%20%20%20%20%20%20%20%20%20%20%20%7D%0A%20%20%20%20%20%20%20%20%20%20%20%20%3C/style%3E%0A%20%20%20%20%20%20%20%20%0A%3C/head%3E%0A%3Cbody%3E%20%20%20%20%0A%20%20%20%20%0A%20%20%20%20%20%20%20%20%20%20%20%20%3Cdiv%20class%3D%22folium-map%22%20id%3D%22map_ad7d82b70da8427e88d5aaf36d725c09%22%20%3E%3C/div%3E%0A%20%20%20%20%20%20%20%20%0A%3C/body%3E%0A%3Cscript%3E%20%20%20%20%0A%20%20%20%20%0A%20%20%20%20%20%20%20%20%20%20%20%20var%20map_ad7d82b70da8427e88d5aaf36d725c09%20%3D%20L.map%28%0A%20%20%20%20%20%20%20%20%20%20%20%20%20%20%20%20%22map_ad7d82b70da8427e88d5aaf36d725c09%22%2C%0A%20%20%20%20%20%20%20%20%20%20%20%20%20%20%20%20%7B%0A%20%20%20%20%20%20%20%20%20%20%20%20%20%20%20%20%20%20%20%20center%3A%20%5B12.97%2C%2077.59%5D%2C%0A%20%20%20%20%20%20%20%20%20%20%20%20%20%20%20%20%20%20%20%20crs%3A%20L.CRS.EPSG3857%2C%0A%20%20%20%20%20%20%20%20%20%20%20%20%20%20%20%20%20%20%20%20zoom%3A%2012%2C%0A%20%20%20%20%20%20%20%20%20%20%20%20%20%20%20%20%20%20%20%20zoomControl%3A%20true%2C%0A%20%20%20%20%20%20%20%20%20%20%20%20%20%20%20%20%20%20%20%20preferCanvas%3A%20false%2C%0A%20%20%20%20%20%20%20%20%20%20%20%20%20%20%20%20%7D%0A%20%20%20%20%20%20%20%20%20%20%20%20%29%3B%0A%0A%20%20%20%20%20%20%20%20%20%20%20%20%0A%0A%20%20%20%20%20%20%20%20%0A%20%20%20%20%0A%20%20%20%20%20%20%20%20%20%20%20%20var%20tile_layer_bfb63ceaa8c04a9695c95f0fc626b9b6%20%3D%20L.tileLayer%28%0A%20%20%20%20%20%20%20%20%20%20%20%20%20%20%20%20%22https%3A//%7Bs%7D.tile.openstreetmap.org/%7Bz%7D/%7Bx%7D/%7By%7D.png%22%2C%0A%20%20%20%20%20%20%20%20%20%20%20%20%20%20%20%20%7B%22attribution%22%3A%20%22Data%20by%20%5Cu0026copy%3B%20%5Cu003ca%20href%3D%5C%22http%3A//openstreetmap.org%5C%22%5Cu003eOpenStreetMap%5Cu003c/a%5Cu003e%2C%20under%20%5Cu003ca%20href%3D%5C%22http%3A//www.openstreetmap.org/copyright%5C%22%5Cu003eODbL%5Cu003c/a%5Cu003e.%22%2C%20%22detectRetina%22%3A%20false%2C%20%22maxNativeZoom%22%3A%2018%2C%20%22maxZoom%22%3A%2018%2C%20%22minZoom%22%3A%200%2C%20%22noWrap%22%3A%20false%2C%20%22opacity%22%3A%201%2C%20%22subdomains%22%3A%20%22abc%22%2C%20%22tms%22%3A%20false%7D%0A%20%20%20%20%20%20%20%20%20%20%20%20%29.addTo%28map_ad7d82b70da8427e88d5aaf36d725c09%29%3B%0A%20%20%20%20%20%20%20%20%0A%3C/script%3E onload=\"this.contentDocument.open();this.contentDocument.write(    decodeURIComponent(this.getAttribute('data-html')));this.contentDocument.close();\" allowfullscreen webkitallowfullscreen mozallowfullscreen></iframe></div></div>"
      ],
      "text/plain": [
       "<folium.folium.Map at 0x2c6c21f91f0>"
      ]
     },
     "execution_count": 45,
     "metadata": {},
     "output_type": "execute_result"
    }
   ],
   "source": [
    "basemap"
   ]
  },
  {
   "cell_type": "code",
   "execution_count": 46,
   "id": "682ab87c",
   "metadata": {},
   "outputs": [
    {
     "data": {
      "text/plain": [
       "[[12.9343774, 77.628415, 1783.0],\n",
       " [45.95485055, -112.49659530324134, 1456.0],\n",
       " [12.9732913, 77.6404672, 1350.0],\n",
       " [18.1475, 41.538889, 1162.0],\n",
       " [27.64392675, 83.05280519687284, 1037.0],\n",
       " [12.2655944, 76.6465404, 1016.0],\n",
       " [44.3730577, -71.6118577, 824.0],\n",
       " [12.9302645, 77.6332585, 725.0],\n",
       " [12.9400321, 77.6203272, 720.0],\n",
       " [12.9552572, 77.6984163, 683.0],\n",
       " [12.93433385, 77.63040639553275, 644.0],\n",
       " [29.4534927, -98.6440138, 596.0],\n",
       " [44.621621, -84.790422, 570.0],\n",
       " [40.7153533, -74.0076212, 508.0],\n",
       " [12.887979, 77.5970812, 496.0],\n",
       " [12.9778793, 77.6246697, 477.0],\n",
       " [13.0221416, 77.6403368, 467.0],\n",
       " [14.5395813, 121.070371, 466.0],\n",
       " [12.93577245, 77.66676103753434, 462.0],\n",
       " [12.9242381, 77.6289059, 456.0],\n",
       " [40.7652844, -76.373824, 445.0],\n",
       " [24.593839, 73.6968527, 442.0],\n",
       " [15.8876779, 75.7046777, 387.0],\n",
       " [13.0027353, 77.5703253, 366.0],\n",
       " [40.5763076, -74.1270894, 351.0],\n",
       " [31.89376, -88.066644, 333.0],\n",
       " [-6.2659285, 106.7842561, 327.0],\n",
       " [33.5935063, -79.0345627, 307.0],\n",
       " [51.5230784, -0.7374421, 304.0],\n",
       " [13.0346384, 77.5681733, 303.0],\n",
       " [12.996845, 77.6130165, 293.0],\n",
       " [12.9417261, 77.5755021, 286.0],\n",
       " [13.0093455, 77.6377094, 260.0],\n",
       " [12.9624669, 77.6381958, 206.0],\n",
       " [62.442403, -114.3987951, 202.0],\n",
       " [13.0141618, 77.6518539, 196.0],\n",
       " [12.9678074, 77.6568367, 174.0],\n",
       " [12.9575547, 77.5979099, 167.0],\n",
       " [12.9271867, 77.6266252, 162.0],\n",
       " [12.9882338, 77.554883, 157.0],\n",
       " [51.5153311, -0.0718115, 141.0],\n",
       " [12.9417812, 77.6160146, 124.0],\n",
       " [12.988721250000001, 77.58516877601824, 108.0],\n",
       " [34.977289, -78.974578, 95.0],\n",
       " [42.931349, -74.194255, 75.0],\n",
       " [12.9932739, 77.5388099, 71.0],\n",
       " [12.9931876, 77.5753419, 69.0],\n",
       " [18.5322493, 73.8499601124847, 69.0],\n",
       " [13.2227, 78.5541977, 62.0],\n",
       " [12.945245, 77.6269144, 59.0],\n",
       " [12.9081487, 77.5553179, 56.0],\n",
       " [12.9846713, 77.6790908, 48.0],\n",
       " [12.9243509, 77.6255562, 45.0],\n",
       " [12.973936, 77.6509982, 43.0],\n",
       " [13.0358698, 77.6323597, 42.0],\n",
       " [12.967576, 77.7150877, 42.0],\n",
       " [12.9489339, 77.5968273, 41.0],\n",
       " [15.8782951, 74.5084834, 38.0],\n",
       " [13.0258087, 77.6305067, 34.0],\n",
       " [12.9089453, 77.6239038, 28.0],\n",
       " [12.9414662, 77.7470942, 27.0],\n",
       " [1.2847055, 103.84320655721689, 27.0],\n",
       " [13.02383, 77.5529215, 24.0],\n",
       " [12.773175, 77.7831871, 24.0],\n",
       " [13.0227204, 77.595715, 22.0],\n",
       " [12.957998, 77.6037312, 22.0],\n",
       " [13.0621474, 77.58006135480495, 20.0],\n",
       " [13.0646907, 77.49626895712257, 19.0],\n",
       " [38.7801076, -121.5056438, 17.0],\n",
       " [13.2923988, 77.7519261, 17.0],\n",
       " [23.1485712, 81.6048241, 17.0],\n",
       " [12.9970537, 77.669804, 16.0],\n",
       " [6.9233338, 93.9046149, 15.0],\n",
       " [17.2510682, 80.1651978, 14.0],\n",
       " [39.76880625, -86.15345077251979, 14.0],\n",
       " [13.0215466, 77.7640586, 8.0],\n",
       " [12.3872141, 76.6669626, 4.0],\n",
       " [12.9055682, 77.5455438, 4.0],\n",
       " [13.0101286, 77.5548006, 3.0],\n",
       " [13.0217151, 77.7660547, 3.0],\n",
       " [11.9917786, 76.5066292, 3.0],\n",
       " [12.9274413, 77.5155224, 2.0],\n",
       " [12.5607431, 77.4258375, 2.0],\n",
       " [13.0011289, 77.6325617, 2.0],\n",
       " [13.1006982, 77.5963454, 2.0],\n",
       " [12.945048, 77.263004, 2.0],\n",
       " [13.007516, 77.695935, 1.0]]"
      ]
     },
     "execution_count": 46,
     "metadata": {},
     "output_type": "execute_result"
    }
   ],
   "source": [
    "Restaurant_locations[['lat','lon','count']].values.tolist()"
   ]
  },
  {
   "cell_type": "code",
   "execution_count": 47,
   "id": "8ed23436",
   "metadata": {},
   "outputs": [
    {
     "data": {
      "text/plain": [
       "<folium.plugins.heat_map.HeatMap at 0x2c6c21be0a0>"
      ]
     },
     "execution_count": 47,
     "metadata": {},
     "output_type": "execute_result"
    }
   ],
   "source": [
    "HeatMap(Restaurant_locations[['lat','lon','count']].values.tolist(),zoom=20,radius=15).add_to(basemap)"
   ]
  },
  {
   "cell_type": "code",
   "execution_count": 48,
   "id": "ae5ef199",
   "metadata": {},
   "outputs": [
    {
     "data": {
      "text/html": [
       "<div style=\"width:100%;\"><div style=\"position:relative;width:100%;height:0;padding-bottom:60%;\"><span style=\"color:#565656\">Make this Notebook Trusted to load map: File -> Trust Notebook</span><iframe src=\"about:blank\" style=\"position:absolute;width:100%;height:100%;left:0;top:0;border:none !important;\" data-html=%3C%21DOCTYPE%20html%3E%0A%3Chead%3E%20%20%20%20%0A%20%20%20%20%3Cmeta%20http-equiv%3D%22content-type%22%20content%3D%22text/html%3B%20charset%3DUTF-8%22%20/%3E%0A%20%20%20%20%0A%20%20%20%20%20%20%20%20%3Cscript%3E%0A%20%20%20%20%20%20%20%20%20%20%20%20L_NO_TOUCH%20%3D%20false%3B%0A%20%20%20%20%20%20%20%20%20%20%20%20L_DISABLE_3D%20%3D%20false%3B%0A%20%20%20%20%20%20%20%20%3C/script%3E%0A%20%20%20%20%0A%20%20%20%20%3Cstyle%3Ehtml%2C%20body%20%7Bwidth%3A%20100%25%3Bheight%3A%20100%25%3Bmargin%3A%200%3Bpadding%3A%200%3B%7D%3C/style%3E%0A%20%20%20%20%3Cstyle%3E%23map%20%7Bposition%3Aabsolute%3Btop%3A0%3Bbottom%3A0%3Bright%3A0%3Bleft%3A0%3B%7D%3C/style%3E%0A%20%20%20%20%3Cscript%20src%3D%22https%3A//cdn.jsdelivr.net/npm/leaflet%401.6.0/dist/leaflet.js%22%3E%3C/script%3E%0A%20%20%20%20%3Cscript%20src%3D%22https%3A//code.jquery.com/jquery-1.12.4.min.js%22%3E%3C/script%3E%0A%20%20%20%20%3Cscript%20src%3D%22https%3A//maxcdn.bootstrapcdn.com/bootstrap/3.2.0/js/bootstrap.min.js%22%3E%3C/script%3E%0A%20%20%20%20%3Cscript%20src%3D%22https%3A//cdnjs.cloudflare.com/ajax/libs/Leaflet.awesome-markers/2.0.2/leaflet.awesome-markers.js%22%3E%3C/script%3E%0A%20%20%20%20%3Clink%20rel%3D%22stylesheet%22%20href%3D%22https%3A//cdn.jsdelivr.net/npm/leaflet%401.6.0/dist/leaflet.css%22/%3E%0A%20%20%20%20%3Clink%20rel%3D%22stylesheet%22%20href%3D%22https%3A//maxcdn.bootstrapcdn.com/bootstrap/3.2.0/css/bootstrap.min.css%22/%3E%0A%20%20%20%20%3Clink%20rel%3D%22stylesheet%22%20href%3D%22https%3A//maxcdn.bootstrapcdn.com/bootstrap/3.2.0/css/bootstrap-theme.min.css%22/%3E%0A%20%20%20%20%3Clink%20rel%3D%22stylesheet%22%20href%3D%22https%3A//maxcdn.bootstrapcdn.com/font-awesome/4.6.3/css/font-awesome.min.css%22/%3E%0A%20%20%20%20%3Clink%20rel%3D%22stylesheet%22%20href%3D%22https%3A//cdnjs.cloudflare.com/ajax/libs/Leaflet.awesome-markers/2.0.2/leaflet.awesome-markers.css%22/%3E%0A%20%20%20%20%3Clink%20rel%3D%22stylesheet%22%20href%3D%22https%3A//cdn.jsdelivr.net/gh/python-visualization/folium/folium/templates/leaflet.awesome.rotate.min.css%22/%3E%0A%20%20%20%20%0A%20%20%20%20%20%20%20%20%20%20%20%20%3Cmeta%20name%3D%22viewport%22%20content%3D%22width%3Ddevice-width%2C%0A%20%20%20%20%20%20%20%20%20%20%20%20%20%20%20%20initial-scale%3D1.0%2C%20maximum-scale%3D1.0%2C%20user-scalable%3Dno%22%20/%3E%0A%20%20%20%20%20%20%20%20%20%20%20%20%3Cstyle%3E%0A%20%20%20%20%20%20%20%20%20%20%20%20%20%20%20%20%23map_ad7d82b70da8427e88d5aaf36d725c09%20%7B%0A%20%20%20%20%20%20%20%20%20%20%20%20%20%20%20%20%20%20%20%20position%3A%20relative%3B%0A%20%20%20%20%20%20%20%20%20%20%20%20%20%20%20%20%20%20%20%20width%3A%20100.0%25%3B%0A%20%20%20%20%20%20%20%20%20%20%20%20%20%20%20%20%20%20%20%20height%3A%20100.0%25%3B%0A%20%20%20%20%20%20%20%20%20%20%20%20%20%20%20%20%20%20%20%20left%3A%200.0%25%3B%0A%20%20%20%20%20%20%20%20%20%20%20%20%20%20%20%20%20%20%20%20top%3A%200.0%25%3B%0A%20%20%20%20%20%20%20%20%20%20%20%20%20%20%20%20%7D%0A%20%20%20%20%20%20%20%20%20%20%20%20%3C/style%3E%0A%20%20%20%20%20%20%20%20%0A%20%20%20%20%3Cscript%20src%3D%22https%3A//cdn.jsdelivr.net/gh/python-visualization/folium%40master/folium/templates/leaflet_heat.min.js%22%3E%3C/script%3E%0A%3C/head%3E%0A%3Cbody%3E%20%20%20%20%0A%20%20%20%20%0A%20%20%20%20%20%20%20%20%20%20%20%20%3Cdiv%20class%3D%22folium-map%22%20id%3D%22map_ad7d82b70da8427e88d5aaf36d725c09%22%20%3E%3C/div%3E%0A%20%20%20%20%20%20%20%20%0A%3C/body%3E%0A%3Cscript%3E%20%20%20%20%0A%20%20%20%20%0A%20%20%20%20%20%20%20%20%20%20%20%20var%20map_ad7d82b70da8427e88d5aaf36d725c09%20%3D%20L.map%28%0A%20%20%20%20%20%20%20%20%20%20%20%20%20%20%20%20%22map_ad7d82b70da8427e88d5aaf36d725c09%22%2C%0A%20%20%20%20%20%20%20%20%20%20%20%20%20%20%20%20%7B%0A%20%20%20%20%20%20%20%20%20%20%20%20%20%20%20%20%20%20%20%20center%3A%20%5B12.97%2C%2077.59%5D%2C%0A%20%20%20%20%20%20%20%20%20%20%20%20%20%20%20%20%20%20%20%20crs%3A%20L.CRS.EPSG3857%2C%0A%20%20%20%20%20%20%20%20%20%20%20%20%20%20%20%20%20%20%20%20zoom%3A%2012%2C%0A%20%20%20%20%20%20%20%20%20%20%20%20%20%20%20%20%20%20%20%20zoomControl%3A%20true%2C%0A%20%20%20%20%20%20%20%20%20%20%20%20%20%20%20%20%20%20%20%20preferCanvas%3A%20false%2C%0A%20%20%20%20%20%20%20%20%20%20%20%20%20%20%20%20%7D%0A%20%20%20%20%20%20%20%20%20%20%20%20%29%3B%0A%0A%20%20%20%20%20%20%20%20%20%20%20%20%0A%0A%20%20%20%20%20%20%20%20%0A%20%20%20%20%0A%20%20%20%20%20%20%20%20%20%20%20%20var%20tile_layer_bfb63ceaa8c04a9695c95f0fc626b9b6%20%3D%20L.tileLayer%28%0A%20%20%20%20%20%20%20%20%20%20%20%20%20%20%20%20%22https%3A//%7Bs%7D.tile.openstreetmap.org/%7Bz%7D/%7Bx%7D/%7By%7D.png%22%2C%0A%20%20%20%20%20%20%20%20%20%20%20%20%20%20%20%20%7B%22attribution%22%3A%20%22Data%20by%20%5Cu0026copy%3B%20%5Cu003ca%20href%3D%5C%22http%3A//openstreetmap.org%5C%22%5Cu003eOpenStreetMap%5Cu003c/a%5Cu003e%2C%20under%20%5Cu003ca%20href%3D%5C%22http%3A//www.openstreetmap.org/copyright%5C%22%5Cu003eODbL%5Cu003c/a%5Cu003e.%22%2C%20%22detectRetina%22%3A%20false%2C%20%22maxNativeZoom%22%3A%2018%2C%20%22maxZoom%22%3A%2018%2C%20%22minZoom%22%3A%200%2C%20%22noWrap%22%3A%20false%2C%20%22opacity%22%3A%201%2C%20%22subdomains%22%3A%20%22abc%22%2C%20%22tms%22%3A%20false%7D%0A%20%20%20%20%20%20%20%20%20%20%20%20%29.addTo%28map_ad7d82b70da8427e88d5aaf36d725c09%29%3B%0A%20%20%20%20%20%20%20%20%0A%20%20%20%20%0A%20%20%20%20%20%20%20%20%20%20%20%20var%20heat_map_ec7ba9d7e2d1480d8baa59994945d4e9%20%3D%20L.heatLayer%28%0A%20%20%20%20%20%20%20%20%20%20%20%20%20%20%20%20%5B%5B12.9343774%2C%2077.628415%2C%201783.0%5D%2C%20%5B45.95485055%2C%20-112.49659530324134%2C%201456.0%5D%2C%20%5B12.9732913%2C%2077.6404672%2C%201350.0%5D%2C%20%5B18.1475%2C%2041.538889%2C%201162.0%5D%2C%20%5B27.64392675%2C%2083.05280519687284%2C%201037.0%5D%2C%20%5B12.2655944%2C%2076.6465404%2C%201016.0%5D%2C%20%5B44.3730577%2C%20-71.6118577%2C%20824.0%5D%2C%20%5B12.9302645%2C%2077.6332585%2C%20725.0%5D%2C%20%5B12.9400321%2C%2077.6203272%2C%20720.0%5D%2C%20%5B12.9552572%2C%2077.6984163%2C%20683.0%5D%2C%20%5B12.93433385%2C%2077.63040639553275%2C%20644.0%5D%2C%20%5B29.4534927%2C%20-98.6440138%2C%20596.0%5D%2C%20%5B44.621621%2C%20-84.790422%2C%20570.0%5D%2C%20%5B40.7153533%2C%20-74.0076212%2C%20508.0%5D%2C%20%5B12.887979%2C%2077.5970812%2C%20496.0%5D%2C%20%5B12.9778793%2C%2077.6246697%2C%20477.0%5D%2C%20%5B13.0221416%2C%2077.6403368%2C%20467.0%5D%2C%20%5B14.5395813%2C%20121.070371%2C%20466.0%5D%2C%20%5B12.93577245%2C%2077.66676103753434%2C%20462.0%5D%2C%20%5B12.9242381%2C%2077.6289059%2C%20456.0%5D%2C%20%5B40.7652844%2C%20-76.373824%2C%20445.0%5D%2C%20%5B24.593839%2C%2073.6968527%2C%20442.0%5D%2C%20%5B15.8876779%2C%2075.7046777%2C%20387.0%5D%2C%20%5B13.0027353%2C%2077.5703253%2C%20366.0%5D%2C%20%5B40.5763076%2C%20-74.1270894%2C%20351.0%5D%2C%20%5B31.89376%2C%20-88.066644%2C%20333.0%5D%2C%20%5B-6.2659285%2C%20106.7842561%2C%20327.0%5D%2C%20%5B33.5935063%2C%20-79.0345627%2C%20307.0%5D%2C%20%5B51.5230784%2C%20-0.7374421%2C%20304.0%5D%2C%20%5B13.0346384%2C%2077.5681733%2C%20303.0%5D%2C%20%5B12.996845%2C%2077.6130165%2C%20293.0%5D%2C%20%5B12.9417261%2C%2077.5755021%2C%20286.0%5D%2C%20%5B13.0093455%2C%2077.6377094%2C%20260.0%5D%2C%20%5B12.9624669%2C%2077.6381958%2C%20206.0%5D%2C%20%5B62.442403%2C%20-114.3987951%2C%20202.0%5D%2C%20%5B13.0141618%2C%2077.6518539%2C%20196.0%5D%2C%20%5B12.9678074%2C%2077.6568367%2C%20174.0%5D%2C%20%5B12.9575547%2C%2077.5979099%2C%20167.0%5D%2C%20%5B12.9271867%2C%2077.6266252%2C%20162.0%5D%2C%20%5B12.9882338%2C%2077.554883%2C%20157.0%5D%2C%20%5B51.5153311%2C%20-0.0718115%2C%20141.0%5D%2C%20%5B12.9417812%2C%2077.6160146%2C%20124.0%5D%2C%20%5B12.988721250000001%2C%2077.58516877601824%2C%20108.0%5D%2C%20%5B34.977289%2C%20-78.974578%2C%2095.0%5D%2C%20%5B42.931349%2C%20-74.194255%2C%2075.0%5D%2C%20%5B12.9932739%2C%2077.5388099%2C%2071.0%5D%2C%20%5B12.9931876%2C%2077.5753419%2C%2069.0%5D%2C%20%5B18.5322493%2C%2073.8499601124847%2C%2069.0%5D%2C%20%5B13.2227%2C%2078.5541977%2C%2062.0%5D%2C%20%5B12.945245%2C%2077.6269144%2C%2059.0%5D%2C%20%5B12.9081487%2C%2077.5553179%2C%2056.0%5D%2C%20%5B12.9846713%2C%2077.6790908%2C%2048.0%5D%2C%20%5B12.9243509%2C%2077.6255562%2C%2045.0%5D%2C%20%5B12.973936%2C%2077.6509982%2C%2043.0%5D%2C%20%5B13.0358698%2C%2077.6323597%2C%2042.0%5D%2C%20%5B12.967576%2C%2077.7150877%2C%2042.0%5D%2C%20%5B12.9489339%2C%2077.5968273%2C%2041.0%5D%2C%20%5B15.8782951%2C%2074.5084834%2C%2038.0%5D%2C%20%5B13.0258087%2C%2077.6305067%2C%2034.0%5D%2C%20%5B12.9089453%2C%2077.6239038%2C%2028.0%5D%2C%20%5B12.9414662%2C%2077.7470942%2C%2027.0%5D%2C%20%5B1.2847055%2C%20103.84320655721689%2C%2027.0%5D%2C%20%5B13.02383%2C%2077.5529215%2C%2024.0%5D%2C%20%5B12.773175%2C%2077.7831871%2C%2024.0%5D%2C%20%5B13.0227204%2C%2077.595715%2C%2022.0%5D%2C%20%5B12.957998%2C%2077.6037312%2C%2022.0%5D%2C%20%5B13.0621474%2C%2077.58006135480495%2C%2020.0%5D%2C%20%5B13.0646907%2C%2077.49626895712257%2C%2019.0%5D%2C%20%5B38.7801076%2C%20-121.5056438%2C%2017.0%5D%2C%20%5B13.2923988%2C%2077.7519261%2C%2017.0%5D%2C%20%5B23.1485712%2C%2081.6048241%2C%2017.0%5D%2C%20%5B12.9970537%2C%2077.669804%2C%2016.0%5D%2C%20%5B6.9233338%2C%2093.9046149%2C%2015.0%5D%2C%20%5B17.2510682%2C%2080.1651978%2C%2014.0%5D%2C%20%5B39.76880625%2C%20-86.15345077251979%2C%2014.0%5D%2C%20%5B13.0215466%2C%2077.7640586%2C%208.0%5D%2C%20%5B12.3872141%2C%2076.6669626%2C%204.0%5D%2C%20%5B12.9055682%2C%2077.5455438%2C%204.0%5D%2C%20%5B13.0101286%2C%2077.5548006%2C%203.0%5D%2C%20%5B13.0217151%2C%2077.7660547%2C%203.0%5D%2C%20%5B11.9917786%2C%2076.5066292%2C%203.0%5D%2C%20%5B12.9274413%2C%2077.5155224%2C%202.0%5D%2C%20%5B12.5607431%2C%2077.4258375%2C%202.0%5D%2C%20%5B13.0011289%2C%2077.6325617%2C%202.0%5D%2C%20%5B13.1006982%2C%2077.5963454%2C%202.0%5D%2C%20%5B12.945048%2C%2077.263004%2C%202.0%5D%2C%20%5B13.007516%2C%2077.695935%2C%201.0%5D%5D%2C%0A%20%20%20%20%20%20%20%20%20%20%20%20%20%20%20%20%7B%22blur%22%3A%2015%2C%20%22maxZoom%22%3A%2018%2C%20%22minOpacity%22%3A%200.5%2C%20%22radius%22%3A%2015%2C%20%22zoom%22%3A%2020%7D%0A%20%20%20%20%20%20%20%20%20%20%20%20%29.addTo%28map_ad7d82b70da8427e88d5aaf36d725c09%29%3B%0A%20%20%20%20%20%20%20%20%0A%3C/script%3E onload=\"this.contentDocument.open();this.contentDocument.write(    decodeURIComponent(this.getAttribute('data-html')));this.contentDocument.close();\" allowfullscreen webkitallowfullscreen mozallowfullscreen></iframe></div></div>"
      ],
      "text/plain": [
       "<folium.folium.Map at 0x2c6c21f91f0>"
      ]
     },
     "execution_count": 48,
     "metadata": {},
     "output_type": "execute_result"
    }
   ],
   "source": [
    "basemap"
   ]
  },
  {
   "cell_type": "markdown",
   "id": "61a23967",
   "metadata": {},
   "source": [
    "##### It is clear that restaurants tend to concentrate in central bangalore area.\n",
    "##### The clutter of restaurants lowers are we move away from central.\n",
    "##### So,potential restaurant entrepreneurs can refer this and find out good locations for their venture"
   ]
  },
  {
   "cell_type": "markdown",
   "id": "35407bd5",
   "metadata": {},
   "source": [
    "#### note heatmap is good when we have latitude,longitude or imporatnce of that particular place or count of that place"
   ]
  },
  {
   "cell_type": "code",
   "execution_count": null,
   "id": "8039b6a8",
   "metadata": {},
   "outputs": [],
   "source": []
  }
 ],
 "metadata": {
  "kernelspec": {
   "display_name": "Python 3",
   "language": "python",
   "name": "python3"
  },
  "language_info": {
   "codemirror_mode": {
    "name": "ipython",
    "version": 3
   },
   "file_extension": ".py",
   "mimetype": "text/x-python",
   "name": "python",
   "nbconvert_exporter": "python",
   "pygments_lexer": "ipython3",
   "version": "3.8.8"
  }
 },
 "nbformat": 4,
 "nbformat_minor": 5
}
