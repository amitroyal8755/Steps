{
 "cells": [
  {
   "cell_type": "code",
   "execution_count": null,
   "id": "353c2465",
   "metadata": {},
   "outputs": [],
   "source": [
    "# import tensorflow as tf\n",
    "# from tensorflow.keras import datasets, layers, models\n",
    "# import matplotlib.pyplot as plt\n",
    "# import numpy as np             #import all library related with datasets"
   ]
  },
  {
   "cell_type": "code",
   "execution_count": null,
   "id": "27920d1a",
   "metadata": {},
   "outputs": [],
   "source": [
    "#import the data set \n",
    "#hint:\n",
    "# (X_train, y_train), (X_test,y_test) = datasets.cifar10.load_data()"
   ]
  },
  {
   "cell_type": "code",
   "execution_count": null,
   "id": "5a0a3a08",
   "metadata": {},
   "outputs": [],
   "source": [
    "# check the shape"
   ]
  },
  {
   "cell_type": "code",
   "execution_count": null,
   "id": "76df8af9",
   "metadata": {},
   "outputs": [],
   "source": [
    "#convert into x_train,y_train\n",
    "#reshape it if it is possible to hint::y_train = y_train.reshape(-1,)"
   ]
  },
  {
   "cell_type": "code",
   "execution_count": 1,
   "id": "457bd846",
   "metadata": {},
   "outputs": [],
   "source": [
    "#use this function for checking the image"
   ]
  },
  {
   "cell_type": "markdown",
   "id": "a65f4c8c",
   "metadata": {},
   "source": [
    "classes = [\"airplane\",\"automobile\",\"bird\",\"cat\",\"deer\",\"dog\",\"frog\",\"horse\",\"ship\",\"truck\"]\n",
    "def plot_sample(X, y, index):\n",
    "    plt.figure(figsize = (15,2))\n",
    "    plt.imshow(X[index])\n",
    "    plt.xlabel(classes[y[index]])"
   ]
  },
  {
   "cell_type": "code",
   "execution_count": 2,
   "id": "b1d1cc7e",
   "metadata": {},
   "outputs": [],
   "source": [
    "#check the image with the help of function"
   ]
  },
  {
   "cell_type": "code",
   "execution_count": 3,
   "id": "5f657f58",
   "metadata": {},
   "outputs": [],
   "source": [
    "#normalizing the training and test data by deviding 255"
   ]
  },
  {
   "cell_type": "markdown",
   "id": "979c2161",
   "metadata": {},
   "source": [
    "cnn = models.Sequential([\n",
    "    layers.Conv2D(filters=32, kernel_size=(3, 3), activation='relu', input_shape=(32, 32, 3)),\n",
    "    layers.MaxPooling2D((2, 2)),\n",
    "    \n",
    "    layers.Conv2D(filters=64, kernel_size=(3, 3), activation='relu'),\n",
    "    layers.MaxPooling2D((2, 2)),\n",
    "    \n",
    "    layers.Flatten(),\n",
    "    layers.Dense(64, activation='relu'),\n",
    "    layers.Dense(10, activation='softmax')\n",
    "])\n",
    "cnn.compile(optimizer='adam',\n",
    "              loss='sparse_categorical_crossentropy',\n",
    "              metrics=['accuracy'])\n",
    "cnn.fit(X_train, y_train, epochs=10)\n",
    "\n"
   ]
  },
  {
   "cell_type": "code",
   "execution_count": null,
   "id": "f88ffff8",
   "metadata": {},
   "outputs": [],
   "source": [
    "# cnn.evaluate(X_test,y_test)\n",
    "# y_pred = cnn.predict(X_test)\n",
    "# y_pred[:5]\n",
    "# y_classes = [np.argmax(element) for element in y_pred]\n",
    "# y_classes[:5]\n",
    "# plot_sample(X_test, y_test,3)"
   ]
  }
 ],
 "metadata": {
  "kernelspec": {
   "display_name": "Python 3",
   "language": "python",
   "name": "python3"
  },
  "language_info": {
   "codemirror_mode": {
    "name": "ipython",
    "version": 3
   },
   "file_extension": ".py",
   "mimetype": "text/x-python",
   "name": "python",
   "nbconvert_exporter": "python",
   "pygments_lexer": "ipython3",
   "version": "3.8.8"
  }
 },
 "nbformat": 4,
 "nbformat_minor": 5
}
